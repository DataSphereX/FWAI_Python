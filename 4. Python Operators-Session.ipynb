{
 "cells": [
  {
   "cell_type": "markdown",
   "id": "a4d5c4be",
   "metadata": {},
   "source": [
    "#### Python operations"
   ]
  },
  {
   "cell_type": "markdown",
   "id": "3e417784",
   "metadata": {},
   "source": [
    "-  Welcome to the session on Python operators.\n",
    "-  Operators are symbols that perform operations on variables and values in Python.\n",
    "-  They are essential for mathematical, logical, and comparison operations."
   ]
  },
  {
   "cell_type": "markdown",
   "id": "2afa6b87",
   "metadata": {},
   "source": [
    "#### Arithmetic Operators"
   ]
  },
  {
   "cell_type": "markdown",
   "id": "518bfd8b",
   "metadata": {},
   "source": [
    "-  Arithmetic operators perform mathematical operations on numeric data types.\n",
    "-  Addition (+): Adds two numbers.\n",
    "-  Subtraction (-): Subtracts the right operand from the left operand.\n",
    "-  Multiplication (*): Multiplies two numbers.\n",
    "-  Division (/): Divides the left operand by the right operand.\n",
    "-  Floor Division (//): Rounds down the division result to the nearest integer.\n",
    "-  Modulus (%): Returns the remainder of the division."
   ]
  },
  {
   "cell_type": "code",
   "execution_count": 1,
   "id": "0746bbdc",
   "metadata": {},
   "outputs": [
    {
     "name": "stdout",
     "output_type": "stream",
     "text": [
      "7\n"
     ]
    }
   ],
   "source": [
    "x = 5\n",
    "y = 2\n",
    "\n",
    "print(x + y)"
   ]
  },
  {
   "cell_type": "code",
   "execution_count": 2,
   "id": "77913f97",
   "metadata": {},
   "outputs": [
    {
     "data": {
      "text/plain": [
       "2"
      ]
     },
     "execution_count": 2,
     "metadata": {},
     "output_type": "execute_result"
    }
   ],
   "source": [
    "x // y"
   ]
  },
  {
   "cell_type": "code",
   "execution_count": 3,
   "id": "020afade",
   "metadata": {},
   "outputs": [
    {
     "data": {
      "text/plain": [
       "1"
      ]
     },
     "execution_count": 3,
     "metadata": {},
     "output_type": "execute_result"
    }
   ],
   "source": [
    "x % y"
   ]
  },
  {
   "cell_type": "code",
   "execution_count": 4,
   "id": "0a315882",
   "metadata": {},
   "outputs": [
    {
     "data": {
      "text/plain": [
       "25"
      ]
     },
     "execution_count": 4,
     "metadata": {},
     "output_type": "execute_result"
    }
   ],
   "source": [
    "x ** y"
   ]
  },
  {
   "cell_type": "markdown",
   "id": "223c7080",
   "metadata": {},
   "source": [
    "#### Comparison Operators "
   ]
  },
  {
   "cell_type": "markdown",
   "id": "d999bdd2",
   "metadata": {},
   "source": [
    "-  Comparison operators are used to compare two values and return a Boolean result.\n",
    "-  Equal to (==): Checks if two values are equal.\n",
    "-  Not equal to (!=): Checks if two values are not equal.\n",
    "-  Greater than (>): Checks if the left value is greater than the right value.\n",
    "-  Less than (<): Checks if the left value is less than the right value.\n",
    "-  Greater than or equal to (>=): Checks if the left value is greater than or equal to the right value.\n",
    "-  Less than or equal to (<=): Checks if the left value is less than or equal to the right value."
   ]
  },
  {
   "cell_type": "code",
   "execution_count": 5,
   "id": "f69f80f0",
   "metadata": {},
   "outputs": [
    {
     "data": {
      "text/plain": [
       "False"
      ]
     },
     "execution_count": 5,
     "metadata": {},
     "output_type": "execute_result"
    }
   ],
   "source": [
    "x == y"
   ]
  },
  {
   "cell_type": "code",
   "execution_count": 6,
   "id": "b51b2478",
   "metadata": {},
   "outputs": [
    {
     "data": {
      "text/plain": [
       "True"
      ]
     },
     "execution_count": 6,
     "metadata": {},
     "output_type": "execute_result"
    }
   ],
   "source": [
    "x >= y"
   ]
  },
  {
   "cell_type": "code",
   "execution_count": 7,
   "id": "0d884af2",
   "metadata": {},
   "outputs": [
    {
     "data": {
      "text/plain": [
       "True"
      ]
     },
     "execution_count": 7,
     "metadata": {},
     "output_type": "execute_result"
    }
   ],
   "source": [
    "x != y"
   ]
  },
  {
   "cell_type": "code",
   "execution_count": 8,
   "id": "973934b5",
   "metadata": {},
   "outputs": [
    {
     "data": {
      "text/plain": [
       "False"
      ]
     },
     "execution_count": 8,
     "metadata": {},
     "output_type": "execute_result"
    }
   ],
   "source": [
    "x < y"
   ]
  },
  {
   "cell_type": "markdown",
   "id": "abe98f89",
   "metadata": {},
   "source": [
    "#### Logical Operators "
   ]
  },
  {
   "cell_type": "markdown",
   "id": "d35d865d",
   "metadata": {},
   "source": [
    "-  Logical operators perform logical operations on Boolean values.\n",
    "-  and: Returns True if both operands are True.\n",
    "-  or: Returns True if at least one operand is True.\n",
    "-  not: Returns the opposite of the operand's value."
   ]
  },
  {
   "cell_type": "code",
   "execution_count": null,
   "id": "58aa819c",
   "metadata": {},
   "outputs": [],
   "source": [
    "AND (&): Performs a bitwise AND operation on two operands.\n",
    "OR (|): Performs a bitwise OR operation on two operands.\n",
    "XOR (^): Performs a bitwise XOR operation on two operands.\n",
    "NOT (~): Performs a bitwise NOT operation, inverting the bits of its operand.\n",
    "Left Shift (<<): Shifts the bits of the first operand left by the number of positions specified by the second operand.\n",
    "Right Shift (>>): Shifts the bits of the first operand right by the number of positions specified by the second operand."
   ]
  },
  {
   "cell_type": "code",
   "execution_count": 16,
   "id": "9bdbc75f",
   "metadata": {},
   "outputs": [],
   "source": [
    "x = True\n",
    "y = False"
   ]
  },
  {
   "cell_type": "code",
   "execution_count": 17,
   "id": "1a3d6d7f",
   "metadata": {},
   "outputs": [
    {
     "data": {
      "text/plain": [
       "True"
      ]
     },
     "execution_count": 17,
     "metadata": {},
     "output_type": "execute_result"
    }
   ],
   "source": [
    "x ^ y"
   ]
  },
  {
   "cell_type": "code",
   "execution_count": 19,
   "id": "02e69d10",
   "metadata": {},
   "outputs": [
    {
     "data": {
      "text/plain": [
       "True"
      ]
     },
     "execution_count": 19,
     "metadata": {},
     "output_type": "execute_result"
    }
   ],
   "source": [
    "x = 5\n",
    "y = 10\n",
    "\n",
    "not(x>y)"
   ]
  },
  {
   "cell_type": "code",
   "execution_count": 10,
   "id": "154ddb69",
   "metadata": {},
   "outputs": [
    {
     "data": {
      "text/plain": [
       "False"
      ]
     },
     "execution_count": 10,
     "metadata": {},
     "output_type": "execute_result"
    }
   ],
   "source": [
    "x and y"
   ]
  },
  {
   "cell_type": "code",
   "execution_count": 11,
   "id": "17399525",
   "metadata": {},
   "outputs": [
    {
     "data": {
      "text/plain": [
       "True"
      ]
     },
     "execution_count": 11,
     "metadata": {},
     "output_type": "execute_result"
    }
   ],
   "source": [
    "x or y"
   ]
  },
  {
   "cell_type": "code",
   "execution_count": 12,
   "id": "ce6305ac",
   "metadata": {},
   "outputs": [],
   "source": []
  },
  {
   "cell_type": "code",
   "execution_count": 13,
   "id": "ea1519d9",
   "metadata": {},
   "outputs": [
    {
     "data": {
      "text/plain": [
       "False"
      ]
     },
     "execution_count": 13,
     "metadata": {},
     "output_type": "execute_result"
    }
   ],
   "source": [
    "x > y"
   ]
  },
  {
   "cell_type": "code",
   "execution_count": 14,
   "id": "696b6414",
   "metadata": {},
   "outputs": [
    {
     "data": {
      "text/plain": [
       "True"
      ]
     },
     "execution_count": 14,
     "metadata": {},
     "output_type": "execute_result"
    }
   ],
   "source": [
    "not(x > y)"
   ]
  },
  {
   "cell_type": "code",
   "execution_count": 15,
   "id": "9888cfd2",
   "metadata": {},
   "outputs": [
    {
     "name": "stdout",
     "output_type": "stream",
     "text": [
      "The input value is not greater than 10\n"
     ]
    }
   ],
   "source": [
    "if not(x > 10):\n",
    "    print(\"The input value is not greater than 10\")"
   ]
  },
  {
   "cell_type": "markdown",
   "id": "6640e939",
   "metadata": {},
   "source": [
    "#### Assignment Operators"
   ]
  },
  {
   "cell_type": "markdown",
   "id": "2cac188f",
   "metadata": {},
   "source": [
    "-  Assignment operators are used to assign values to variables.\n",
    "-  =: Assigns the value on the right to the variable on the left.\n",
    "-  *+=, -=, =, /=, //=, %=: Perform the respective operation and assign the result to the variable on the left."
   ]
  },
  {
   "cell_type": "code",
   "execution_count": 20,
   "id": "2573371e",
   "metadata": {},
   "outputs": [],
   "source": [
    "x = 5"
   ]
  },
  {
   "cell_type": "code",
   "execution_count": 21,
   "id": "0aaa5937",
   "metadata": {},
   "outputs": [],
   "source": [
    "x += 10"
   ]
  },
  {
   "cell_type": "code",
   "execution_count": null,
   "id": "4947233a",
   "metadata": {},
   "outputs": [],
   "source": [
    "x = x(5) + 10"
   ]
  },
  {
   "cell_type": "code",
   "execution_count": 23,
   "id": "92de4a3b",
   "metadata": {},
   "outputs": [],
   "source": [
    "x -= 10"
   ]
  },
  {
   "cell_type": "code",
   "execution_count": 25,
   "id": "44362861",
   "metadata": {},
   "outputs": [],
   "source": [
    "x /= 2"
   ]
  },
  {
   "cell_type": "code",
   "execution_count": 26,
   "id": "78439304",
   "metadata": {},
   "outputs": [
    {
     "name": "stdout",
     "output_type": "stream",
     "text": [
      "2.5\n"
     ]
    }
   ],
   "source": [
    "print(x)"
   ]
  },
  {
   "cell_type": "code",
   "execution_count": 27,
   "id": "92bfbd85",
   "metadata": {},
   "outputs": [
    {
     "data": {
      "text/plain": [
       "2.5"
      ]
     },
     "execution_count": 27,
     "metadata": {},
     "output_type": "execute_result"
    }
   ],
   "source": [
    "x"
   ]
  },
  {
   "cell_type": "code",
   "execution_count": 28,
   "id": "53431c98",
   "metadata": {},
   "outputs": [],
   "source": [
    "x -= 10"
   ]
  },
  {
   "cell_type": "code",
   "execution_count": 29,
   "id": "de9fe403",
   "metadata": {},
   "outputs": [
    {
     "data": {
      "text/plain": [
       "-7.5"
      ]
     },
     "execution_count": 29,
     "metadata": {},
     "output_type": "execute_result"
    }
   ],
   "source": [
    "x"
   ]
  },
  {
   "cell_type": "markdown",
   "id": "7bf2731c",
   "metadata": {},
   "source": [
    "#### Membership Operators"
   ]
  },
  {
   "cell_type": "markdown",
   "id": "7557068c",
   "metadata": {},
   "source": [
    "-  Membership operators are used to test if a value is present in a sequence.\n",
    "-  in: Returns True if the value is found in the sequence.\n",
    "-  not in: Returns True if the value is not found in the sequence."
   ]
  },
  {
   "cell_type": "code",
   "execution_count": 30,
   "id": "d8e49339",
   "metadata": {},
   "outputs": [],
   "source": [
    "fruits = ['apple', 'banana', 'cherry']"
   ]
  },
  {
   "cell_type": "code",
   "execution_count": 31,
   "id": "c816f3c0",
   "metadata": {},
   "outputs": [
    {
     "data": {
      "text/plain": [
       "True"
      ]
     },
     "execution_count": 31,
     "metadata": {},
     "output_type": "execute_result"
    }
   ],
   "source": [
    "'banana' in fruits"
   ]
  },
  {
   "cell_type": "code",
   "execution_count": 32,
   "id": "1508e0c3",
   "metadata": {
    "scrolled": true
   },
   "outputs": [
    {
     "data": {
      "text/plain": [
       "False"
      ]
     },
     "execution_count": 32,
     "metadata": {},
     "output_type": "execute_result"
    }
   ],
   "source": [
    "'banana' not in fruits"
   ]
  },
  {
   "cell_type": "code",
   "execution_count": 33,
   "id": "460a087a",
   "metadata": {},
   "outputs": [],
   "source": [
    "my_list = [1, 2, 3, 4, 5]"
   ]
  },
  {
   "cell_type": "code",
   "execution_count": 34,
   "id": "0dcb72de",
   "metadata": {},
   "outputs": [],
   "source": [
    "element = 6"
   ]
  },
  {
   "cell_type": "code",
   "execution_count": 36,
   "id": "93d8766e",
   "metadata": {},
   "outputs": [
    {
     "data": {
      "text/plain": [
       "True"
      ]
     },
     "execution_count": 36,
     "metadata": {},
     "output_type": "execute_result"
    }
   ],
   "source": [
    "element not in my_list"
   ]
  },
  {
   "cell_type": "code",
   "execution_count": 38,
   "id": "7d157740",
   "metadata": {
    "scrolled": true
   },
   "outputs": [
    {
     "name": "stdout",
     "output_type": "stream",
     "text": [
      "6 is not in my list\n"
     ]
    }
   ],
   "source": [
    "if element not in my_list:\n",
    "    print(element, \"is not in my list\")"
   ]
  },
  {
   "cell_type": "markdown",
   "id": "c3a9216a",
   "metadata": {},
   "source": [
    "#### Identity Operators "
   ]
  },
  {
   "cell_type": "markdown",
   "id": "1ab46a5d",
   "metadata": {},
   "source": [
    "-  Identity operators are used to compare the memory locations of two objects.\n",
    "-  is: Returns True if both operands refer to the same object.\n",
    "-  is not: Returns True if both operands refer to different objects."
   ]
  },
  {
   "cell_type": "code",
   "execution_count": 39,
   "id": "683d2406",
   "metadata": {},
   "outputs": [],
   "source": [
    "x = [1, 2, 3]\n",
    "\n",
    "y = [4, 5, 6]"
   ]
  },
  {
   "cell_type": "code",
   "execution_count": 40,
   "id": "8c438b50",
   "metadata": {
    "scrolled": true
   },
   "outputs": [
    {
     "data": {
      "text/plain": [
       "False"
      ]
     },
     "execution_count": 40,
     "metadata": {},
     "output_type": "execute_result"
    }
   ],
   "source": [
    "x is y"
   ]
  },
  {
   "cell_type": "code",
   "execution_count": 41,
   "id": "07b949d8",
   "metadata": {},
   "outputs": [
    {
     "data": {
      "text/plain": [
       "True"
      ]
     },
     "execution_count": 41,
     "metadata": {},
     "output_type": "execute_result"
    }
   ],
   "source": [
    "x is not y"
   ]
  },
  {
   "cell_type": "markdown",
   "id": "7ab57585",
   "metadata": {},
   "source": [
    "#### Recap and Practical Examples"
   ]
  },
  {
   "cell_type": "markdown",
   "id": "639de4dd",
   "metadata": {},
   "source": [
    "-  A quick recap of the operators covered."
   ]
  },
  {
   "cell_type": "markdown",
   "id": "f0967d97",
   "metadata": {},
   "source": [
    "This session provides an overview of Python operators, covering arithmetic, comparison, logical, assignment, membership, and identity operators. It's essential for the participants to experiment with these operators during the session."
   ]
  }
 ],
 "metadata": {
  "kernelspec": {
   "display_name": "Python 3 (ipykernel)",
   "language": "python",
   "name": "python3"
  },
  "language_info": {
   "codemirror_mode": {
    "name": "ipython",
    "version": 3
   },
   "file_extension": ".py",
   "mimetype": "text/x-python",
   "name": "python",
   "nbconvert_exporter": "python",
   "pygments_lexer": "ipython3",
   "version": "3.11.5"
  }
 },
 "nbformat": 4,
 "nbformat_minor": 5
}
