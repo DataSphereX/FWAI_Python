{
 "cells": [
  {
   "cell_type": "markdown",
   "id": "de9ec872",
   "metadata": {},
   "source": [
    "##### Naming Rules & Conventions"
   ]
  },
  {
   "cell_type": "code",
   "execution_count": 1,
   "id": "0bca9fb7",
   "metadata": {},
   "outputs": [],
   "source": [
    "variable = 10"
   ]
  },
  {
   "cell_type": "code",
   "execution_count": 2,
   "id": "3f1d8418",
   "metadata": {},
   "outputs": [],
   "source": [
    "_variable = 10"
   ]
  },
  {
   "cell_type": "code",
   "execution_count": 4,
   "id": "4cb42cdc",
   "metadata": {},
   "outputs": [
    {
     "ename": "SyntaxError",
     "evalue": "invalid syntax (797106659.py, line 1)",
     "output_type": "error",
     "traceback": [
      "\u001b[1;36m  Cell \u001b[1;32mIn[4], line 1\u001b[1;36m\u001b[0m\n\u001b[1;33m    while =10\u001b[0m\n\u001b[1;37m          ^\u001b[0m\n\u001b[1;31mSyntaxError\u001b[0m\u001b[1;31m:\u001b[0m invalid syntax\n"
     ]
    }
   ],
   "source": [
    "while = 10"
   ]
  },
  {
   "cell_type": "code",
   "execution_count": 5,
   "id": "a179279e",
   "metadata": {},
   "outputs": [],
   "source": [
    "Variable=10"
   ]
  },
  {
   "cell_type": "code",
   "execution_count": 7,
   "id": "7bdf9342",
   "metadata": {},
   "outputs": [],
   "source": [
    "VAR = 10"
   ]
  },
  {
   "cell_type": "code",
   "execution_count": 6,
   "id": "f1ea5e61",
   "metadata": {},
   "outputs": [
    {
     "ename": "SyntaxError",
     "evalue": "invalid decimal literal (2902575093.py, line 1)",
     "output_type": "error",
     "traceback": [
      "\u001b[1;36m  Cell \u001b[1;32mIn[6], line 1\u001b[1;36m\u001b[0m\n\u001b[1;33m    1variable= 10\u001b[0m\n\u001b[1;37m    ^\u001b[0m\n\u001b[1;31mSyntaxError\u001b[0m\u001b[1;31m:\u001b[0m invalid decimal literal\n"
     ]
    }
   ],
   "source": [
    "1variable= 10"
   ]
  },
  {
   "cell_type": "code",
   "execution_count": 9,
   "id": "b10ba71c",
   "metadata": {},
   "outputs": [],
   "source": [
    "f1lag_1 = True"
   ]
  },
  {
   "cell_type": "code",
   "execution_count": 11,
   "id": "f8377957",
   "metadata": {},
   "outputs": [],
   "source": [
    "my_variable = \"Hello\""
   ]
  },
  {
   "cell_type": "code",
   "execution_count": null,
   "id": "65a7f50f",
   "metadata": {},
   "outputs": [],
   "source": [
    "deep_learning_model = "
   ]
  },
  {
   "cell_type": "code",
   "execution_count": null,
   "id": "9f45faf7",
   "metadata": {},
   "outputs": [],
   "source": [
    "m1 = "
   ]
  },
  {
   "cell_type": "code",
   "execution_count": null,
   "id": "dbd90c22",
   "metadata": {},
   "outputs": [],
   "source": [
    "cars = pd.read_csv(\"\")"
   ]
  },
  {
   "cell_type": "code",
   "execution_count": null,
   "id": "23790e0a",
   "metadata": {},
   "outputs": [],
   "source": [
    "inv_management"
   ]
  },
  {
   "cell_type": "markdown",
   "id": "8f142490",
   "metadata": {},
   "source": [
    "#### Best Practices"
   ]
  },
  {
   "cell_type": "markdown",
   "id": "191f1e58",
   "metadata": {},
   "source": [
    "1. Use meaningful and descriptive variable names\n",
    "2. Follow a consistent naming convention (eg., lowercase with underscores or CamelCase)\n",
    "3. Avoid single-character variable names unless it's a well-known convetion (eg., i for loop)\n",
    "4. Variable should not start with a number\n",
    "5. Document your code with comments to explain the purpose of variables when necessary."
   ]
  }
 ],
 "metadata": {
  "kernelspec": {
   "display_name": "Python 3 (ipykernel)",
   "language": "python",
   "name": "python3"
  },
  "language_info": {
   "codemirror_mode": {
    "name": "ipython",
    "version": 3
   },
   "file_extension": ".py",
   "mimetype": "text/x-python",
   "name": "python",
   "nbconvert_exporter": "python",
   "pygments_lexer": "ipython3",
   "version": "3.11.5"
  }
 },
 "nbformat": 4,
 "nbformat_minor": 5
}
